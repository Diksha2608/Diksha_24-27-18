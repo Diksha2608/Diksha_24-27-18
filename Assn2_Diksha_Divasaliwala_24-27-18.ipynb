{
 "cells": [
  {
   "cell_type": "code",
   "execution_count": 1,
   "id": "62106bda-b11b-42e9-b993-37df86383b01",
   "metadata": {},
   "outputs": [],
   "source": [
    "# Name : Diksha Divasaliwala\n",
    "# Reg No: 24-27-18\n",
    "# Programme: M.tech. Data Science\n",
    "# Assignment Number: 2\n"
   ]
  },
  {
   "cell_type": "markdown",
   "id": "4d38ae77-57df-4e4e-9f51-3ebcee3e0ac9",
   "metadata": {},
   "source": [
    "## Q1. "
   ]
  },
  {
   "cell_type": "code",
   "execution_count": 9,
   "id": "bad42875-788c-40b8-b284-f0a89f22fe5a",
   "metadata": {},
   "outputs": [],
   "source": [
    "# a) Create a variable named var1 that stores an array of numbers from 0 to 30, inclusive. Print var1 and its shape"
   ]
  },
  {
   "cell_type": "code",
   "execution_count": 11,
   "id": "814a37f5-fb9c-4922-8464-c3c0191d881d",
   "metadata": {},
   "outputs": [
    {
     "name": "stdout",
     "output_type": "stream",
     "text": [
      "[ 0  1  2  3  4  5  6  7  8  9 10 11 12 13 14 15 16 17 18 19 20 21 22 23\n",
      " 24 25 26 27 28 29 30]\n",
      "Shape : (31,)\n"
     ]
    }
   ],
   "source": [
    "import numpy as np\n",
    "var1 = np.arange(31)\n",
    "print(var1)\n",
    "print(\"Shape :\", var1.shape)"
   ]
  },
  {
   "cell_type": "code",
   "execution_count": 13,
   "id": "10bcfeea-0a7b-4192-855a-a5d83e9e7c49",
   "metadata": {},
   "outputs": [],
   "source": [
    "# b) Change var2 to a validly-shaped two-dimensional matrix and store it in a new variable called var2. Print var2 and its shape. "
   ]
  },
  {
   "cell_type": "code",
   "execution_count": 15,
   "id": "e63af2df-b495-45de-9145-110c099f171a",
   "metadata": {},
   "outputs": [
    {
     "name": "stdout",
     "output_type": "stream",
     "text": [
      "[[ 1  2  3  4  5]\n",
      " [ 6  7  8  9 10]\n",
      " [11 12 13 14 15]\n",
      " [16 17 18 19 20]\n",
      " [21 22 23 24 25]\n",
      " [26 27 28 29 30]]\n",
      "Shape:  (6, 5)\n"
     ]
    }
   ],
   "source": [
    "var2 = np.delete(var1,0).reshape(6,-1)\n",
    "print(var2)\n",
    "print(\"Shape: \",var2.shape)"
   ]
  },
  {
   "cell_type": "code",
   "execution_count": 17,
   "id": "3e161618-fb8e-42a7-bcc1-2477bc25cc2d",
   "metadata": {},
   "outputs": [],
   "source": [
    "# c)Create a third variable, var3 that reshapes it into a valid three-dimensional shape. Print var3 and its shape."
   ]
  },
  {
   "cell_type": "code",
   "execution_count": 19,
   "id": "dfed7c87-8f67-487c-8675-06fedf2a4f23",
   "metadata": {},
   "outputs": [
    {
     "name": "stdout",
     "output_type": "stream",
     "text": [
      "[[[ 1  2  3  4  5]\n",
      "  [ 6  7  8  9 10]\n",
      "  [11 12 13 14 15]]\n",
      "\n",
      " [[16 17 18 19 20]\n",
      "  [21 22 23 24 25]\n",
      "  [26 27 28 29 30]]]\n",
      "Shape:  (2, 3, 5)\n"
     ]
    }
   ],
   "source": [
    "var3 = np.delete(var1,0).reshape(2, 3, -1)\n",
    "print(var3)\n",
    "print(\"Shape: \",var3.shape)"
   ]
  },
  {
   "cell_type": "code",
   "execution_count": 21,
   "id": "ec84e383-15aa-4464-81f0-7fa836781d7d",
   "metadata": {},
   "outputs": [],
   "source": [
    "# d) Use two-dimensional array indexing to set the first value in the second row of var2 to -1. Now look at var1 and var3."
   ]
  },
  {
   "cell_type": "code",
   "execution_count": 23,
   "id": "2ccf5d1e-658b-4d76-926b-0e17cc17ab93",
   "metadata": {},
   "outputs": [
    {
     "name": "stdout",
     "output_type": "stream",
     "text": [
      "After Modification\n",
      "var2:\n",
      " [[ 1  2  3  4  5]\n",
      " [-1  7  8  9 10]\n",
      " [11 12 13 14 15]\n",
      " [16 17 18 19 20]\n",
      " [21 22 23 24 25]\n",
      " [26 27 28 29 30]]\n",
      "var1:\n",
      " [ 0  1  2  3  4  5  6  7  8  9 10 11 12 13 14 15 16 17 18 19 20 21 22 23\n",
      " 24 25 26 27 28 29 30]\n",
      "var3:\n",
      " [[[ 1  2  3  4  5]\n",
      "  [ 6  7  8  9 10]\n",
      "  [11 12 13 14 15]]\n",
      "\n",
      " [[16 17 18 19 20]\n",
      "  [21 22 23 24 25]\n",
      "  [26 27 28 29 30]]]\n"
     ]
    }
   ],
   "source": [
    "var2[1, 0] = -1\n",
    "print(\"After Modification\")\n",
    "print(\"var2:\\n\", var2)\n",
    "print(\"var1:\\n\", var1)\n",
    "print(\"var3:\\n\", var3)\n"
   ]
  },
  {
   "cell_type": "code",
   "execution_count": 25,
   "id": "de26f1ad-8aa4-4d64-b431-f0cb8d387d20",
   "metadata": {},
   "outputs": [],
   "source": [
    "# Explanation: on modifying var2, the data in var1 will also be modified since var2 is just a different view of var1.\n",
    "# As var1 changes, var3 also changes as it is a reshaped view of var1.\n",
    "# This is because reshape returns a view.So, change in one will affect the others."
   ]
  },
  {
   "cell_type": "code",
   "execution_count": 29,
   "id": "5deb4c6c-4745-4be8-8ae6-0148641a7389",
   "metadata": {},
   "outputs": [],
   "source": [
    "# e)Figure out how the NumPy sum function works (and the axis argument in particular) \n",
    "# and do the following:\n",
    "# (i) Sum var3 over its second dimension and print the result.\n",
    "# (ii) Sum var3 over its third dimension and print the result.\n",
    "# (iii) Sum var3 over both its first and third dimensions and print the result.\n"
   ]
  },
  {
   "cell_type": "code",
   "execution_count": 31,
   "id": "50b2945e-3faf-4cff-9a6f-862c5c406641",
   "metadata": {},
   "outputs": [
    {
     "name": "stdout",
     "output_type": "stream",
     "text": [
      "Sum over the second dimension:\n",
      " [[18 21 24 27 30]\n",
      " [63 66 69 72 75]]\n",
      "Sum over the third dimension:\n",
      " [[ 15  40  65]\n",
      " [ 90 115 140]]\n",
      "Sum over the first and third dimensions:\n",
      " [105 155 205]\n"
     ]
    }
   ],
   "source": [
    "sum1 = np.sum(var3, axis=1)\n",
    "print(\"Sum over the second dimension:\\n\", sum1)\n",
    "\n",
    "sum2 = np.sum(var3, axis=2)\n",
    "print(\"Sum over the third dimension:\\n\", sum2)\n",
    "\n",
    "sum02 = np.sum(var3, axis=(0, 2))\n",
    "print(\"Sum over the first and third dimensions:\\n\", sum02)"
   ]
  },
  {
   "cell_type": "code",
   "execution_count": 33,
   "id": "de37ce1b-0165-4fac-b164-b9458d7292b6",
   "metadata": {},
   "outputs": [],
   "source": [
    "# f)Write code to do the following:\n",
    "# (i) Slice out the second row of var2 and print it.\n",
    "# (ii) Slice out the last column of var2 using the -1 notation and print it.\n",
    "# (iii) Slice out the top right 2 × 2 submatrix of var2 and print it."
   ]
  },
  {
   "cell_type": "code",
   "execution_count": 39,
   "id": "6868a38e-48a7-4fff-9005-7c8601d611aa",
   "metadata": {},
   "outputs": [
    {
     "name": "stdout",
     "output_type": "stream",
     "text": [
      "Second row of var2:\n",
      " [-1  7  8  9 10]\n",
      "Last column of var2:\n",
      " [[ 5]\n",
      " [10]\n",
      " [15]\n",
      " [20]\n",
      " [25]\n",
      " [30]]\n",
      "Top right 2x2 submatrix of var2: \n",
      " [[ 4  5]\n",
      " [ 9 10]]\n"
     ]
    }
   ],
   "source": [
    "row = var2[1, :]\n",
    "print(\"Second row of var2:\\n\", row)\n",
    "last_col = var2[:,-1:]\n",
    "print(\"Last column of var2:\\n\", last_col)\n",
    "matrix = var2[0:2,-2:]\n",
    "print(\"Top right 2x2 submatrix of var2: \\n\", matrix)"
   ]
  },
  {
   "cell_type": "markdown",
   "id": "dfba1fed-06c2-4ca7-823a-887057ed59a7",
   "metadata": {},
   "source": [
    "## Q2"
   ]
  },
  {
   "cell_type": "code",
   "execution_count": 41,
   "id": "98d9224c-c21e-4f96-9f85-4edf3e1ddd2c",
   "metadata": {},
   "outputs": [],
   "source": [
    "# a)create a vector 1, 2, . . . , 10 by adding 1 to the result of the arange function."
   ]
  },
  {
   "cell_type": "code",
   "execution_count": 43,
   "id": "6d7f5775-e4ce-4acb-8e28-a0bad111d63c",
   "metadata": {},
   "outputs": [
    {
     "name": "stdout",
     "output_type": "stream",
     "text": [
      "[ 1  2  3  4  5  6  7  8  9 10]\n"
     ]
    }
   ],
   "source": [
    "vector = np.arange(10) + 1\n",
    "print(vector)"
   ]
  },
  {
   "cell_type": "code",
   "execution_count": 45,
   "id": "c7d27170-99b9-4de8-a74f-22c162232dba",
   "metadata": {},
   "outputs": [],
   "source": [
    "# b)Now, create a 10 × 10 matrix A in which Aij = i + j."
   ]
  },
  {
   "cell_type": "code",
   "execution_count": 47,
   "id": "b492cba9-80f9-4ca9-aaf1-752ddeb19717",
   "metadata": {},
   "outputs": [
    {
     "name": "stdout",
     "output_type": "stream",
     "text": [
      "[[ 2  3  4  5  6  7  8  9 10 11]\n",
      " [ 3  4  5  6  7  8  9 10 11 12]\n",
      " [ 4  5  6  7  8  9 10 11 12 13]\n",
      " [ 5  6  7  8  9 10 11 12 13 14]\n",
      " [ 6  7  8  9 10 11 12 13 14 15]\n",
      " [ 7  8  9 10 11 12 13 14 15 16]\n",
      " [ 8  9 10 11 12 13 14 15 16 17]\n",
      " [ 9 10 11 12 13 14 15 16 17 18]\n",
      " [10 11 12 13 14 15 16 17 18 19]\n",
      " [11 12 13 14 15 16 17 18 19 20]]\n"
     ]
    }
   ],
   "source": [
    "i = vector.reshape(10, 1)  \n",
    "j = vector.reshape(1, 10)  \n",
    "A = i + j\n",
    "print(A)"
   ]
  },
  {
   "cell_type": "code",
   "execution_count": 49,
   "id": "32b05bc2-4088-4254-8f6f-fa4175067b7b",
   "metadata": {},
   "outputs": [],
   "source": [
    "# c) First, create a fake “data set” with 50 examples, each with five dimensions."
   ]
  },
  {
   "cell_type": "code",
   "execution_count": 51,
   "id": "da20f033-085f-431e-89c1-a3dcee4ffdf1",
   "metadata": {},
   "outputs": [],
   "source": [
    "import numpy.random as npr\n",
    "data = np.exp(npr.randn(50,5))"
   ]
  },
  {
   "cell_type": "code",
   "execution_count": 53,
   "id": "a0006f1b-02f9-4982-83ff-7c9942f0a416",
   "metadata": {},
   "outputs": [],
   "source": [
    "# d)generating a 50 × 5 matrix of standard normal random variates and exponentiate them."
   ]
  },
  {
   "cell_type": "code",
   "execution_count": 55,
   "id": "0a105f5e-b9cf-49d1-8bfb-7c1c4da4aef3",
   "metadata": {},
   "outputs": [
    {
     "name": "stdout",
     "output_type": "stream",
     "text": [
      "(50, 5)\n"
     ]
    }
   ],
   "source": [
    "print(data.shape)"
   ]
  },
  {
   "cell_type": "code",
   "execution_count": 57,
   "id": "858b23ef-a0a5-43f1-8370-26849dcef1a2",
   "metadata": {},
   "outputs": [
    {
     "name": "stdout",
     "output_type": "stream",
     "text": [
      "[[ 1.20047487  0.09464808  1.42686448  1.07896525  3.033373  ]\n",
      " [ 0.12805465  6.89441242  0.4848892   3.18667602  0.94801315]\n",
      " [ 0.53043324  2.0905249   0.30277299  2.63110273  0.17561804]\n",
      " [ 0.10223285  1.85527284  0.17103201  0.76346315  0.841075  ]\n",
      " [ 0.49291054  4.07096179  0.55588008  2.03623513  0.51165414]\n",
      " [ 0.24643095  0.81282719  2.61217041  0.43279819  0.5946666 ]\n",
      " [ 1.40399443  0.06996214  1.21744394  1.64344755  1.87884814]\n",
      " [ 1.39560202  1.11723614  1.40288289  0.32082927  0.18879495]\n",
      " [ 3.38960068  0.83513985  2.96796439  0.73313107  1.82300326]\n",
      " [ 1.40856014  0.77842879  0.16086434  0.10651219  4.36106993]\n",
      " [ 1.6019852   4.07108733  0.54703232  0.63562507  2.47595559]\n",
      " [ 3.66980131  1.22396769  1.54672686  1.50302029  1.83525338]\n",
      " [ 0.89061429  0.90972839  3.09562148  0.39219119  0.47006708]\n",
      " [ 0.95761804  0.83321592  3.42852531  3.68834599  0.28376027]\n",
      " [ 2.64574157  0.90378658  0.92414718  0.93536866  0.50957268]\n",
      " [ 3.6535588   0.64508716  0.1498565   0.49843079  0.83202153]\n",
      " [ 2.07339866  1.10928048  1.13565465  1.14564244  0.43410637]\n",
      " [ 1.35749739  0.68293137  4.00852008  0.82709345  0.22568923]\n",
      " [ 0.42186147  0.49920421  2.62722048  1.898177    0.22557294]\n",
      " [ 0.86167336  1.18220775  1.37775674  2.17251157 15.57940815]\n",
      " [ 0.24894766  1.62328391  0.48507957  0.01655298  0.09060693]\n",
      " [ 0.70452835  0.74027827  1.35108014  1.18189208  0.5065784 ]\n",
      " [ 1.06448435  1.85558938  0.1405845   0.65061135  0.20177887]\n",
      " [ 0.38799949  1.55930541  0.7926438   0.35571924  4.06845147]\n",
      " [ 4.45056461  0.97270382  1.02180936  1.21368232  0.58714284]\n",
      " [ 2.61006331  0.19590288  0.80901876  0.55521769  0.91202103]\n",
      " [ 0.12285306  0.39584523  1.19095051  0.54715668  0.82092535]\n",
      " [ 2.47062497  1.11275023  0.52901576  0.26275467  0.50660598]\n",
      " [ 1.23222024  0.78194438  1.68088296  3.76089539  0.3477    ]\n",
      " [ 0.57645747  0.56358043  2.78987444  0.62138093  0.20209352]\n",
      " [ 0.57914757  0.42932594  2.44469436  0.64075233  1.51703901]\n",
      " [ 3.2568677   1.06255466  2.11691556  2.51208703  0.48970453]\n",
      " [ 1.15117384  6.92845367  2.46870125  1.68606811  0.32845243]\n",
      " [ 0.49968772  2.30383337  0.35227672  4.59025677  0.94009638]\n",
      " [ 0.45137121  2.86374827  1.63135068  0.50652614  0.4505757 ]\n",
      " [ 1.64061339  0.55422786  1.56444772  5.35108945  1.86457298]\n",
      " [ 1.09661421  0.51629283  0.82668159  0.90274943  4.5145973 ]\n",
      " [ 0.6037051   0.67298622  3.28984226  1.93851541  0.69793705]\n",
      " [ 1.10202386  0.66958351  1.81883737  0.54452699  5.6803954 ]\n",
      " [ 4.45678978  2.03273424  0.50108123  1.19604859  0.96613174]\n",
      " [ 0.91899873  2.90401977  0.5542404   1.22257102  0.4477336 ]\n",
      " [ 1.0953805   1.4730292   0.69518538  3.93043717  1.74859946]\n",
      " [ 4.09957736  9.39747151  0.28035182  0.49879985  2.29440216]\n",
      " [ 4.7891438   0.20483841  0.86225678  0.27541735  1.74952037]\n",
      " [ 7.85512048  1.05107001  0.28752082  0.81716946  0.30663129]\n",
      " [ 2.55115422  0.32503484  0.36493406  0.85688146  2.02289324]\n",
      " [ 0.28028406  3.25828877  2.87522635  0.18603554  0.83881904]\n",
      " [ 1.11219191  1.12926805  0.29272899  2.29992782  0.15592452]\n",
      " [ 0.56057223  1.34623613  1.23620713  6.27540464  1.71951505]\n",
      " [ 0.40530037  0.5558326   0.37609575  0.57338015  1.74594967]]\n"
     ]
    }
   ],
   "source": [
    "print(data)"
   ]
  },
  {
   "cell_type": "code",
   "execution_count": 59,
   "id": "9ba3faff-7082-440a-88a2-d96d693f8a95",
   "metadata": {},
   "outputs": [],
   "source": [
    "# e) compute the mean and standard deviation of each column.\n",
    "#Store these vectors into variables and print both of them."
   ]
  },
  {
   "cell_type": "code",
   "execution_count": 61,
   "id": "f826f4fd-5d45-4941-b4ae-c070e58c82da",
   "metadata": {},
   "outputs": [
    {
     "name": "stdout",
     "output_type": "stream",
     "text": [
      "Mean of each col: [1.61613012 1.6031985  1.31548685 1.4520015  1.51901838]\n",
      "Standard deviation of each col: [1.55104765 1.82088958 1.01748994 1.39366168 2.36076908]\n"
     ]
    }
   ],
   "source": [
    "mean = data.mean(axis=0)\n",
    "std = data.std(axis=0)\n",
    "print(\"Mean of each col:\", mean)\n",
    "print(\"Standard deviation of each col:\", std)"
   ]
  },
  {
   "cell_type": "code",
   "execution_count": 63,
   "id": "928edae3-ee1f-4f99-a874-50379919c4eb",
   "metadata": {},
   "outputs": [],
   "source": [
    "# f) Now standardize the data matrix by 1) subtracting the mean off of each column, \n",
    "#and 2) dividing each column by its standard deviation. Do this via broadcasting, \n",
    "#and store the result in a matrix called normalized. To verify that you successfully \n",
    "#did it, compute the mean and standard deviation of\n",
    "#the columns of normalized and print them out"
   ]
  },
  {
   "cell_type": "code",
   "execution_count": 65,
   "id": "2910d790-3102-4eda-a702-5ee7a2332b98",
   "metadata": {},
   "outputs": [
    {
     "name": "stdout",
     "output_type": "stream",
     "text": [
      "Mean:\n",
      " [ 2.44249065e-17  1.42108547e-16  0.00000000e+00  2.99760217e-16\n",
      " -2.01227923e-16]\n",
      "Standard deviation: [1. 1. 1. 1. 1.]\n"
     ]
    }
   ],
   "source": [
    "std_data = (data - mean) / std\n",
    "print(\"Mean:\\n\", std_data.mean(axis=0))\n",
    "print(\"Standard deviation:\", std_data.std(axis=0))"
   ]
  },
  {
   "cell_type": "markdown",
   "id": "25631af5-d78b-45ce-a5e6-101302c972a6",
   "metadata": {},
   "source": [
    "## Q3"
   ]
  },
  {
   "cell_type": "code",
   "execution_count": 67,
   "id": "78c79ede-70d1-4930-84e4-c9d79d83a31c",
   "metadata": {},
   "outputs": [],
   "source": [
    "# a) o write a function that will produce a Vandermonde matrix for a \n",
    "# vector [1, 2, . . . ,N]T for any N. Do it without using a loop.\n",
    "# Use your function for N = 12, store it in variable named vander, and print the result."
   ]
  },
  {
   "cell_type": "code",
   "execution_count": 87,
   "id": "a3aa2e05-afa6-40fb-8937-671b6d03fbd6",
   "metadata": {},
   "outputs": [
    {
     "name": "stdout",
     "output_type": "stream",
     "text": [
      "12x12 Vandermonde matrix:\n",
      "[[          1           1           1           1           1           1\n",
      "            1           1           1           1           1           1]\n",
      " [          1           2           4           8          16          32\n",
      "           64         128         256         512        1024        2048]\n",
      " [          1           3           9          27          81         243\n",
      "          729        2187        6561       19683       59049      177147]\n",
      " [          1           4          16          64         256        1024\n",
      "         4096       16384       65536      262144     1048576     4194304]\n",
      " [          1           5          25         125         625        3125\n",
      "        15625       78125      390625     1953125     9765625    48828125]\n",
      " [          1           6          36         216        1296        7776\n",
      "        46656      279936     1679616    10077696    60466176   362797056]\n",
      " [          1           7          49         343        2401       16807\n",
      "       117649      823543     5764801    40353607   282475249  1977326743]\n",
      " [          1           8          64         512        4096       32768\n",
      "       262144     2097152    16777216   134217728  1073741824           0]\n",
      " [          1           9          81         729        6561       59049\n",
      "       531441     4782969    43046721   387420489  -808182895  1316288537]\n",
      " [          1          10         100        1000       10000      100000\n",
      "      1000000    10000000   100000000  1000000000  1410065408  1215752192]\n",
      " [          1          11         121        1331       14641      161051\n",
      "      1771561    19487171   214358881 -1937019605   167620825  1843829075]\n",
      " [          1          12         144        1728       20736      248832\n",
      "      2985984    35831808   429981696   864813056  1787822080   -20971520]]\n"
     ]
    }
   ],
   "source": [
    "import numpy as np\n",
    "def vandermonde(N):\n",
    "    vec = np.arange(N) + 1\n",
    "    powers = np.arange(N)\n",
    "    return vec[:, np.newaxis] ** powers\n",
    "\n",
    "N = 12\n",
    "vander = vandermonde(N)\n",
    "print(\"12x12 Vandermonde matrix:\")\n",
    "print(vander)"
   ]
  },
  {
   "cell_type": "code",
   "execution_count": 89,
   "id": "71eb2057-84bb-4ae4-b98f-cf796ffcb8f9",
   "metadata": {},
   "outputs": [],
   "source": [
    "# b) Now, let’s make a pretend linear system problem with this matrix. Create a vector \n",
    "# of all ones, of length 12 and call it x. Perform a matrix-vector multiplication of \n",
    "# vander with the vector you just created and store that in a new vector and call it b. \n",
    "# Print the vector b."
   ]
  },
  {
   "cell_type": "code",
   "execution_count": 95,
   "id": "bafa4c57-1786-4e5d-9597-1cfb2f8a66c1",
   "metadata": {},
   "outputs": [
    {
     "name": "stdout",
     "output_type": "stream",
     "text": [
      "Vector b:\n",
      " [1.20000000e+01 4.09500000e+03 2.65720000e+05 5.59240500e+06\n",
      " 6.10351560e+07 4.35356467e+08 2.30688120e+09 1.22713351e+09\n",
      " 9.43953692e+08 3.73692871e+09 3.10225064e+08 3.10073456e+09]\n"
     ]
    }
   ],
   "source": [
    "x = np.ones(N) \n",
    "b = np.dot(vander, x)\n",
    "print(\"Vector b:\\n\", b)"
   ]
  },
  {
   "cell_type": "code",
   "execution_count": 97,
   "id": "04e47152-cb0e-4bf6-bf89-0853fa71b7dc",
   "metadata": {},
   "outputs": [],
   "source": [
    "# c)# First, solve the linear system the naïve way, pretending like you don’t know x. \n",
    "# Import numpy.linalg, invert V and multiply it by b. Print out your result. What \n",
    "# should you get for your answer? If the answer is different than what you \n",
    "# expected, write a sentence about that difference"
   ]
  },
  {
   "cell_type": "code",
   "execution_count": 99,
   "id": "085be688-eb1f-41b6-86b3-d917519c96e9",
   "metadata": {},
   "outputs": [
    {
     "name": "stdout",
     "output_type": "stream",
     "text": [
      "Solution :\n",
      " [0.99365711 1.00758362 0.99868774 1.00006294 0.99999857 1.00000048\n",
      " 0.99999993 1.         1.         1.         1.         1.        ]\n"
     ]
    }
   ],
   "source": [
    "# Naive approach\n",
    "from numpy.linalg import inv\n",
    "inverse = inv(vander)\n",
    "naive = np.dot(inverse, b)\n",
    "print(\"Solution :\\n\", naive)"
   ]
  },
  {
   "cell_type": "code",
   "execution_count": 101,
   "id": "365d8ea6-4c6f-4b1a-9a2a-41b124fb8eec",
   "metadata": {},
   "outputs": [],
   "source": [
    "# Expectation : I expected an ans of vector x close to ones i.e [1 1 1 . .] \n",
    "# Difference : However, the output deviated slightly from the expected vector of ones when the naive approach was used."
   ]
  },
  {
   "cell_type": "code",
   "execution_count": 103,
   "id": "331600ae-405b-43d9-a885-e038e6d929e1",
   "metadata": {},
   "outputs": [],
   "source": [
    "# d)Now, solve the same linear system using solve. Print out the result. \n",
    "# Does it seem more or less in line with what you’d expect?\n"
   ]
  },
  {
   "cell_type": "code",
   "execution_count": 105,
   "id": "a0633260-3b8d-421a-a6df-56e3ba0e7035",
   "metadata": {},
   "outputs": [
    {
     "name": "stdout",
     "output_type": "stream",
     "text": [
      "Solution :\n",
      " [0.99998827 1.00002951 0.99997139 1.00001427 0.99999595 1.00000068\n",
      " 0.99999993 1.         1.         1.         1.         1.        ]\n"
     ]
    }
   ],
   "source": [
    "# Using solve\n",
    "from numpy.linalg import solve\n",
    "solve = solve(vander, b)\n",
    "print(\"Solution :\\n\", solve)"
   ]
  },
  {
   "cell_type": "code",
   "execution_count": 107,
   "id": "6561e4aa-0aae-4b1f-ac75-5b53b94a0705",
   "metadata": {},
   "outputs": [],
   "source": [
    "# Using 'solve' gave a more accurate result which is close to the original vector x"
   ]
  },
  {
   "cell_type": "code",
   "execution_count": 113,
   "id": "68bf9707-5d40-46fc-b4ac-669b9c988239",
   "metadata": {},
   "outputs": [],
   "source": [
    "#Github link: https://github.com/Diksha2608/Diksha_24-27-18/blob/main/Assn2_Diksha_Divasaliwala_24-27-18.ipynb\n",
    "\n"
   ]
  },
  {
   "cell_type": "code",
   "execution_count": null,
   "id": "2d4db1aa-0cce-4719-ab08-c698d48d9799",
   "metadata": {},
   "outputs": [],
   "source": []
  }
 ],
 "metadata": {
  "kernelspec": {
   "display_name": "Python 3 (ipykernel)",
   "language": "python",
   "name": "python3"
  },
  "language_info": {
   "codemirror_mode": {
    "name": "ipython",
    "version": 3
   },
   "file_extension": ".py",
   "mimetype": "text/x-python",
   "name": "python",
   "nbconvert_exporter": "python",
   "pygments_lexer": "ipython3",
   "version": "3.12.4"
  }
 },
 "nbformat": 4,
 "nbformat_minor": 5
}
